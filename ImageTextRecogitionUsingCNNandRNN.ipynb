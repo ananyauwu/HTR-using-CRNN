{
  "nbformat": 4,
  "nbformat_minor": 0,
  "metadata": {
    "colab": {
      "provenance": []
    },
    "kernelspec": {
      "name": "python3",
      "display_name": "Python 3"
    },
    "language_info": {
      "name": "python"
    }
  },
  "cells": [
    {
      "cell_type": "code",
      "source": [
        "from tensorflow.keras.preprocessing.sequence import pad_sequences\n",
        "import os\n",
        "import fnmatch\n",
        "import cv2\n",
        "import numpy as np\n",
        "import string\n",
        "import time\n",
        "import sys"
      ],
      "metadata": {
        "id": "51ukzTKRFinJ"
      },
      "execution_count": null,
      "outputs": []
    },
    {
      "cell_type": "code",
      "source": [
        "char_list = string.ascii_letters+string.digits\n",
        "\n",
        "def encode_to_labels(txt):\n",
        "    dig_lst = []\n",
        "    for index, char in enumerate(txt):\n",
        "        try:\n",
        "            dig_lst.append(char_list.index(char))\n",
        "        except:\n",
        "            print(char)\n",
        "\n",
        "    return dig_lst"
      ],
      "metadata": {
        "id": "aof2S_1qGFg7"
      },
      "execution_count": null,
      "outputs": []
    },
    {
      "cell_type": "code",
      "source": [
        "import tarfile\n",
        "path= '/content/drive/MyDrive/mjsynth.tar.gz'\n",
        "with tarfile.open(path, 'r:gz') as tar:\n",
        "  training_img = np.zeros((390000, 32, 128, 1),dtype='uint8')\n",
        "  training_txt = []\n",
        "  train_input_length = np.zeros((390000, ),dtype='uint8')\n",
        "  train_label_length = np.zeros((390000, ),dtype='uint8')\n",
        "  max_label_len = 0\n",
        "  i =0\n",
        "  flag = 0\n",
        "  for member in tar:\n",
        "    if fnmatch.fnmatch(member.name, '*.jpg'):\n",
        "      img = cv2.imdecode(np.frombuffer(tar.extractfile(member).read(), np.uint8), cv2.IMREAD_GRAYSCALE)\n",
        "      for root, dirnames, filenames in os.walk(path):\n",
        "        for f_name in fnmatch.filter(filenames, '*.jpg'):\n",
        "          try:\n",
        "            img = cv2.cvtColor(cv2.imread(os.path.join(root, f_name)), cv2.COLOR_BGR2GRAY)\n",
        "            w, h = img.shape\n",
        "            if h > 128 or w > 32:\n",
        "              continue\n",
        "            if w < 32:\n",
        "              add_zeros = np.ones((32-w, h))*255\n",
        "              img = np.concatenate((img, add_zeros))\n",
        "            if h < 128:\n",
        "              add_zeros = np.ones((32, 128-h))*255\n",
        "              img = np.concatenate((img, add_zeros), axis=1)\n",
        "            img = np.expand_dims(img , axis = 2)\n",
        "            txt = f_name.split('_')[1]\n",
        "            if len(txt) > max_label_len:\n",
        "              max_label_len = len(txt)\n",
        "            if len(txt) == 0:\n",
        "              print(txt)\n",
        "              continue\n",
        "            train_label_length[i]= len(txt)\n",
        "            train_input_length[i]= 31\n",
        "            training_img[i]= img\n",
        "            training_txt.append(encode_to_labels(txt))\n",
        "\n",
        "            sys.stdout.write('\\r' + str(i) + ' ' + str(np.count_nonzero(train_label_length)))\n",
        "\n",
        "            if i == 389999:\n",
        "              flag = 1\n",
        "              break\n",
        "            i+=1\n",
        "\n",
        "          except:\n",
        "            print('\\n' + os.path.join(root, f_name))\n",
        "        if flag == 1:\n",
        "          break\n",
        "\n",
        "train_padded_txt = pad_sequences(training_txt, maxlen=max_label_len, padding='post', value = len(char_list))"
      ],
      "metadata": {
        "colab": {
          "base_uri": "https://localhost:8080/",
          "height": 245
        },
        "id": "qnP-YC7Vl6Rt",
        "outputId": "3ffe95e7-8136-4b05-c454-ec91dbe41729"
      },
      "execution_count": null,
      "outputs": [
        {
          "output_type": "error",
          "ename": "error",
          "evalue": "ignored",
          "traceback": [
            "\u001b[0;31m---------------------------------------------------------------------------\u001b[0m",
            "\u001b[0;31merror\u001b[0m                                     Traceback (most recent call last)",
            "\u001b[0;32m<ipython-input-79-8496312f7c14>\u001b[0m in \u001b[0;36m<cell line: 3>\u001b[0;34m()\u001b[0m\n\u001b[1;32m     11\u001b[0m   \u001b[0;32mfor\u001b[0m \u001b[0mmember\u001b[0m \u001b[0;32min\u001b[0m \u001b[0mtar\u001b[0m\u001b[0;34m:\u001b[0m\u001b[0;34m\u001b[0m\u001b[0;34m\u001b[0m\u001b[0m\n\u001b[1;32m     12\u001b[0m     \u001b[0;32mif\u001b[0m \u001b[0mfnmatch\u001b[0m\u001b[0;34m.\u001b[0m\u001b[0mfnmatch\u001b[0m\u001b[0;34m(\u001b[0m\u001b[0mmember\u001b[0m\u001b[0;34m.\u001b[0m\u001b[0mname\u001b[0m\u001b[0;34m,\u001b[0m \u001b[0;34m'*.jpg'\u001b[0m\u001b[0;34m)\u001b[0m\u001b[0;34m:\u001b[0m\u001b[0;34m\u001b[0m\u001b[0;34m\u001b[0m\u001b[0m\n\u001b[0;32m---> 13\u001b[0;31m       \u001b[0mimg\u001b[0m \u001b[0;34m=\u001b[0m \u001b[0mcv2\u001b[0m\u001b[0;34m.\u001b[0m\u001b[0mimdecode\u001b[0m\u001b[0;34m(\u001b[0m\u001b[0mnp\u001b[0m\u001b[0;34m.\u001b[0m\u001b[0mfrombuffer\u001b[0m\u001b[0;34m(\u001b[0m\u001b[0mtar\u001b[0m\u001b[0;34m.\u001b[0m\u001b[0mextractfile\u001b[0m\u001b[0;34m(\u001b[0m\u001b[0mmember\u001b[0m\u001b[0;34m)\u001b[0m\u001b[0;34m.\u001b[0m\u001b[0mread\u001b[0m\u001b[0;34m(\u001b[0m\u001b[0;34m)\u001b[0m\u001b[0;34m,\u001b[0m \u001b[0mnp\u001b[0m\u001b[0;34m.\u001b[0m\u001b[0muint8\u001b[0m\u001b[0;34m)\u001b[0m\u001b[0;34m,\u001b[0m \u001b[0mcv2\u001b[0m\u001b[0;34m.\u001b[0m\u001b[0mIMREAD_GRAYSCALE\u001b[0m\u001b[0;34m)\u001b[0m\u001b[0;34m\u001b[0m\u001b[0;34m\u001b[0m\u001b[0m\n\u001b[0m\u001b[1;32m     14\u001b[0m       \u001b[0;32mfor\u001b[0m \u001b[0mroot\u001b[0m\u001b[0;34m,\u001b[0m \u001b[0mdirnames\u001b[0m\u001b[0;34m,\u001b[0m \u001b[0mfilenames\u001b[0m \u001b[0;32min\u001b[0m \u001b[0mos\u001b[0m\u001b[0;34m.\u001b[0m\u001b[0mwalk\u001b[0m\u001b[0;34m(\u001b[0m\u001b[0mpath\u001b[0m\u001b[0;34m)\u001b[0m\u001b[0;34m:\u001b[0m\u001b[0;34m\u001b[0m\u001b[0;34m\u001b[0m\u001b[0m\n\u001b[1;32m     15\u001b[0m         \u001b[0;32mfor\u001b[0m \u001b[0mf_name\u001b[0m \u001b[0;32min\u001b[0m \u001b[0mfnmatch\u001b[0m\u001b[0;34m.\u001b[0m\u001b[0mfilter\u001b[0m\u001b[0;34m(\u001b[0m\u001b[0mfilenames\u001b[0m\u001b[0;34m,\u001b[0m \u001b[0;34m'*.jpg'\u001b[0m\u001b[0;34m)\u001b[0m\u001b[0;34m:\u001b[0m\u001b[0;34m\u001b[0m\u001b[0;34m\u001b[0m\u001b[0m\n",
            "\u001b[0;31merror\u001b[0m: OpenCV(4.8.0) /io/opencv/modules/imgcodecs/src/loadsave.cpp:802: error: (-215:Assertion failed) !buf.empty() in function 'imdecode_'\n"
          ]
        }
      ]
    },
    {
      "cell_type": "code",
      "source": [
        "train_label_length = np.array(train_label_length, dtype='uint8')\n",
        "train_input_length = np.array(train_input_length, dtype='uint8')\n",
        "training_img = np.array(training_img, dtype='uint8')\n",
        "train_padded_txt = np.array(train_padded_txt,dtype='uint8')"
      ],
      "metadata": {
        "id": "3dDjpDVU-ecH"
      },
      "execution_count": null,
      "outputs": []
    },
    {
      "cell_type": "code",
      "source": [
        "print(\"Number of training examples:\", len(training_txt))\n",
        "print(\"Lengths of original labels:\", [len(txt) for txt in training_txt])\n",
        "print(\"Max label length:\", max_label_len)"
      ],
      "metadata": {
        "colab": {
          "base_uri": "https://localhost:8080/"
        },
        "id": "AmpOJbegBNON",
        "outputId": "7245d2d2-e736-48c7-af08-b5fad84e3633"
      },
      "execution_count": null,
      "outputs": [
        {
          "output_type": "stream",
          "name": "stdout",
          "text": [
            "Number of training examples: 0\n",
            "Lengths of original labels: []\n",
            "Max label length: 0\n"
          ]
        }
      ]
    },
    {
      "cell_type": "code",
      "source": [
        "print(train_label_length.shape)\n",
        "print(train_input_length.shape)\n",
        "print(training_img.shape)\n",
        "print(train_padded_txt.shape)"
      ],
      "metadata": {
        "colab": {
          "base_uri": "https://localhost:8080/"
        },
        "id": "nFRc6ljm-hav",
        "outputId": "dd6fbb7b-2bcc-48b2-eac0-750cf4c2dd2b"
      },
      "execution_count": null,
      "outputs": [
        {
          "output_type": "stream",
          "name": "stdout",
          "text": [
            "(390000,)\n",
            "(390000,)\n",
            "(390000, 32, 128, 1)\n",
            "(0, 0)\n"
          ]
        }
      ]
    },
    {
      "cell_type": "code",
      "source": [
        "np.save('/content/drive/My Drive/train_label_length.npy',train_label_length)\n",
        "np.save('/content/drive/My Drive/train_input_length.npy',train_input_length)\n",
        "np.save('/content/drive/My Drive/training_img.npy',training_img)\n",
        "np.save('/content/drive/My Drive/train_padded_txt.npy',train_padded_txt)\n",
        "np.save('/content/drive/My Drive/max_label_len.npy',max_label_len)"
      ],
      "metadata": {
        "id": "of5fIveb_Unn"
      },
      "execution_count": null,
      "outputs": []
    },
    {
      "cell_type": "code",
      "source": [
        "from keras.layers import Dense, LSTM, Reshape, BatchNormalization, Input, Conv2D, MaxPool2D, Lambda, Bidirectional,Dropout\n",
        "from keras.models import Model\n",
        "from keras.activations import relu, sigmoid, softmax\n",
        "import keras.backend as K\n",
        "from keras.utils import to_categorical\n",
        "from keras.callbacks import ModelCheckpoint\n",
        "import keras"
      ],
      "metadata": {
        "id": "kJgjl8M7_YWC"
      },
      "execution_count": null,
      "outputs": []
    },
    {
      "cell_type": "code",
      "source": [
        "train_label_length = np.load('/content/drive/My Drive/train_label_length.npy')\n",
        "train_input_length = np.load('/content/drive/My Drive/train_input_length.npy')\n",
        "training_img = np.load('/content/drive/My Drive/training_img.npy')\n",
        "train_padded_txt = np.load('/content/drive/My Drive/train_padded_txt.npy')\n",
        "max_label_len = np.load('/content/drive/My Drive/max_label_len.npy')"
      ],
      "metadata": {
        "id": "OFCVVjuE_fR3"
      },
      "execution_count": null,
      "outputs": []
    },
    {
      "cell_type": "code",
      "source": [
        "print(train_label_length.shape)\n",
        "print(train_input_length.shape)\n",
        "print(training_img.shape)\n",
        "print(train_padded_txt.shape)"
      ],
      "metadata": {
        "colab": {
          "base_uri": "https://localhost:8080/"
        },
        "id": "sCkG_u4I_lyX",
        "outputId": "03703d7c-2cf6-4b0c-a6d4-1be5fe2df67c"
      },
      "execution_count": null,
      "outputs": [
        {
          "output_type": "stream",
          "name": "stdout",
          "text": [
            "(390000,)\n",
            "(390000,)\n",
            "(390000, 32, 128, 1)\n",
            "(0, 0)\n"
          ]
        }
      ]
    },
    {
      "cell_type": "code",
      "source": [
        "inputs = Input(shape=(32,128,1))\n",
        "s = keras.layers.core.Lambda(lambda x: x / 255) (inputs)\n",
        "\n",
        "# CNN layer\n",
        "conv_1 = Conv2D(16, (3,3), activation = 'relu', kernel_initializer='he_normal' ,padding='same')(s)\n",
        "conv_1 = Dropout(0.25)(conv_1)\n",
        "conv_1 = Conv2D(32, (3,3), activation = 'relu', kernel_initializer='he_normal' ,padding='same')(conv_1)\n",
        "# poolig layer\n",
        "pool_1 = MaxPool2D(pool_size=(2, 2), strides=2)(conv_1)\n",
        "\n",
        "conv_2 = Conv2D(32, (3,3), activation = 'relu',kernel_initializer='he_normal' , padding='same')(pool_1)\n",
        "conv_2= BatchNormalization(axis=-1)(conv_2)\n",
        "conv_2 = Dropout(0.25)(conv_2)\n",
        "conv_2 = Conv2D(32, (3,3), activation = 'relu', kernel_initializer='he_normal' ,padding='same')(conv_2)\n",
        "pool_2 = MaxPool2D(pool_size=(2, 2), strides=2)(conv_2)\n",
        "\n",
        "conv_3 = Conv2D(32, (3,3), activation = 'relu', kernel_initializer='he_normal' ,padding='same')(pool_2)\n",
        "conv_3= BatchNormalization(axis=-1)(conv_3)\n",
        "conv_3 = Dropout(0.25)(conv_3)\n",
        "conv_3 = Conv2D(32, (3,3), activation = 'relu', kernel_initializer='he_normal' ,padding='same')(conv_3)\n",
        "conv_4 = Conv2D(64, (3,3), activation = 'relu', kernel_initializer='he_normal' ,padding='same')(conv_3)\n",
        "# poolig layer\n",
        "pool_4 = MaxPool2D(pool_size=(2, 1))(conv_4)\n",
        "\n",
        "conv_5 = Conv2D(256, (3,3), activation = 'relu',kernel_initializer='he_normal' , padding='same')(pool_4)\n",
        "# Batch normalization layer\n",
        "batch_norm_5 = BatchNormalization()(conv_5)\n",
        "\n",
        "conv_6 = Conv2D(256, (3,3), activation = 'relu',kernel_initializer='he_normal' , padding='same')(batch_norm_5)\n",
        "batch_norm_6 = BatchNormalization()(conv_6)\n",
        "pool_6 = MaxPool2D(pool_size=(2, 1))(batch_norm_6)\n",
        "\n",
        "conv_7 = Conv2D(512, (2,2), activation = 'relu')(pool_6)\n",
        "\n",
        "squeezed = Lambda(lambda x: K.squeeze(x, 1))(conv_7)\n",
        "\n",
        "blstm_1 = Bidirectional(LSTM(128, return_sequences=True, dropout = 0.2))(squeezed)\n",
        "blstm_2 = Bidirectional(LSTM(128, return_sequences=True, dropout = 0.2))(blstm_1)\n",
        "\n",
        "outputs = Dense(len(char_list)+1, activation = 'softmax')(blstm_2)\n",
        "\n",
        "act_model = Model(inputs, outputs)\n",
        "\n",
        "act_model.summary()"
      ],
      "metadata": {
        "colab": {
          "base_uri": "https://localhost:8080/"
        },
        "id": "2YoJCu5i_q0m",
        "outputId": "fa72a984-6bf5-497b-d4ba-d9cce16bc473"
      },
      "execution_count": null,
      "outputs": [
        {
          "output_type": "stream",
          "name": "stdout",
          "text": [
            "Model: \"model\"\n",
            "_________________________________________________________________\n",
            " Layer (type)                Output Shape              Param #   \n",
            "=================================================================\n",
            " input_1 (InputLayer)        [(None, 32, 128, 1)]      0         \n",
            "                                                                 \n",
            " lambda (Lambda)             (None, 32, 128, 1)        0         \n",
            "                                                                 \n",
            " conv2d (Conv2D)             (None, 32, 128, 16)       160       \n",
            "                                                                 \n",
            " dropout (Dropout)           (None, 32, 128, 16)       0         \n",
            "                                                                 \n",
            " conv2d_1 (Conv2D)           (None, 32, 128, 32)       4640      \n",
            "                                                                 \n",
            " max_pooling2d (MaxPooling2D  (None, 16, 64, 32)       0         \n",
            " )                                                               \n",
            "                                                                 \n",
            " conv2d_2 (Conv2D)           (None, 16, 64, 32)        9248      \n",
            "                                                                 \n",
            " batch_normalization (BatchN  (None, 16, 64, 32)       128       \n",
            " ormalization)                                                   \n",
            "                                                                 \n",
            " dropout_1 (Dropout)         (None, 16, 64, 32)        0         \n",
            "                                                                 \n",
            " conv2d_3 (Conv2D)           (None, 16, 64, 32)        9248      \n",
            "                                                                 \n",
            " max_pooling2d_1 (MaxPooling  (None, 8, 32, 32)        0         \n",
            " 2D)                                                             \n",
            "                                                                 \n",
            " conv2d_4 (Conv2D)           (None, 8, 32, 32)         9248      \n",
            "                                                                 \n",
            " batch_normalization_1 (Batc  (None, 8, 32, 32)        128       \n",
            " hNormalization)                                                 \n",
            "                                                                 \n",
            " dropout_2 (Dropout)         (None, 8, 32, 32)         0         \n",
            "                                                                 \n",
            " conv2d_5 (Conv2D)           (None, 8, 32, 32)         9248      \n",
            "                                                                 \n",
            " conv2d_6 (Conv2D)           (None, 8, 32, 64)         18496     \n",
            "                                                                 \n",
            " max_pooling2d_2 (MaxPooling  (None, 4, 32, 64)        0         \n",
            " 2D)                                                             \n",
            "                                                                 \n",
            " conv2d_7 (Conv2D)           (None, 4, 32, 256)        147712    \n",
            "                                                                 \n",
            " batch_normalization_2 (Batc  (None, 4, 32, 256)       1024      \n",
            " hNormalization)                                                 \n",
            "                                                                 \n",
            " conv2d_8 (Conv2D)           (None, 4, 32, 256)        590080    \n",
            "                                                                 \n",
            " batch_normalization_3 (Batc  (None, 4, 32, 256)       1024      \n",
            " hNormalization)                                                 \n",
            "                                                                 \n",
            " max_pooling2d_3 (MaxPooling  (None, 2, 32, 256)       0         \n",
            " 2D)                                                             \n",
            "                                                                 \n",
            " conv2d_9 (Conv2D)           (None, 1, 31, 512)        524800    \n",
            "                                                                 \n",
            " lambda_1 (Lambda)           (None, 31, 512)           0         \n",
            "                                                                 \n",
            " bidirectional (Bidirectiona  (None, 31, 256)          656384    \n",
            " l)                                                              \n",
            "                                                                 \n",
            " bidirectional_1 (Bidirectio  (None, 31, 256)          394240    \n",
            " nal)                                                            \n",
            "                                                                 \n",
            " dense (Dense)               (None, 31, 63)            16191     \n",
            "                                                                 \n",
            "=================================================================\n",
            "Total params: 2,391,999\n",
            "Trainable params: 2,390,847\n",
            "Non-trainable params: 1,152\n",
            "_________________________________________________________________\n"
          ]
        }
      ]
    },
    {
      "cell_type": "code",
      "source": [
        "labels = Input(name='the_labels', shape=[max_label_len], dtype='float32')\n",
        "input_length = Input(name='input_length', shape=[1], dtype='int64')\n",
        "label_length = Input(name='label_length', shape=[1], dtype='int64')\n",
        "\n",
        "def ctc_lambda_func(args):\n",
        "  y_pred, labels, input_length, label_length = args\n",
        "  return K.ctc_batch_cost(labels, y_pred, input_length, label_length)\n",
        "\n",
        "loss_out = Lambda(ctc_lambda_func, output_shape=(1,), name='ctc')([outputs, labels, input_length, label_length])\n",
        "\n",
        "model = Model(inputs=[inputs, labels, input_length, label_length], outputs=loss_out)"
      ],
      "metadata": {
        "colab": {
          "base_uri": "https://localhost:8080/",
          "height": 546
        },
        "id": "QdI76tGm_9W9",
        "outputId": "555e026a-1adf-4de2-d722-7978cd450533"
      },
      "execution_count": null,
      "outputs": [
        {
          "output_type": "error",
          "ename": "ValueError",
          "evalue": "ignored",
          "traceback": [
            "\u001b[0;31m---------------------------------------------------------------------------\u001b[0m",
            "\u001b[0;31mValueError\u001b[0m                                Traceback (most recent call last)",
            "\u001b[0;32m<ipython-input-49-b2978e5fbfd4>\u001b[0m in \u001b[0;36m<cell line: 9>\u001b[0;34m()\u001b[0m\n\u001b[1;32m      7\u001b[0m   \u001b[0;32mreturn\u001b[0m \u001b[0mK\u001b[0m\u001b[0;34m.\u001b[0m\u001b[0mctc_batch_cost\u001b[0m\u001b[0;34m(\u001b[0m\u001b[0mlabels\u001b[0m\u001b[0;34m,\u001b[0m \u001b[0my_pred\u001b[0m\u001b[0;34m,\u001b[0m \u001b[0minput_length\u001b[0m\u001b[0;34m,\u001b[0m \u001b[0mlabel_length\u001b[0m\u001b[0;34m)\u001b[0m\u001b[0;34m\u001b[0m\u001b[0;34m\u001b[0m\u001b[0m\n\u001b[1;32m      8\u001b[0m \u001b[0;34m\u001b[0m\u001b[0m\n\u001b[0;32m----> 9\u001b[0;31m \u001b[0mloss_out\u001b[0m \u001b[0;34m=\u001b[0m \u001b[0mLambda\u001b[0m\u001b[0;34m(\u001b[0m\u001b[0mctc_lambda_func\u001b[0m\u001b[0;34m,\u001b[0m \u001b[0moutput_shape\u001b[0m\u001b[0;34m=\u001b[0m\u001b[0;34m(\u001b[0m\u001b[0;36m1\u001b[0m\u001b[0;34m,\u001b[0m\u001b[0;34m)\u001b[0m\u001b[0;34m,\u001b[0m \u001b[0mname\u001b[0m\u001b[0;34m=\u001b[0m\u001b[0;34m'ctc'\u001b[0m\u001b[0;34m)\u001b[0m\u001b[0;34m(\u001b[0m\u001b[0;34m[\u001b[0m\u001b[0moutputs\u001b[0m\u001b[0;34m,\u001b[0m \u001b[0mlabels\u001b[0m\u001b[0;34m,\u001b[0m \u001b[0minput_length\u001b[0m\u001b[0;34m,\u001b[0m \u001b[0mlabel_length\u001b[0m\u001b[0;34m]\u001b[0m\u001b[0;34m)\u001b[0m\u001b[0;34m\u001b[0m\u001b[0;34m\u001b[0m\u001b[0m\n\u001b[0m\u001b[1;32m     10\u001b[0m \u001b[0;34m\u001b[0m\u001b[0m\n\u001b[1;32m     11\u001b[0m \u001b[0mmodel\u001b[0m \u001b[0;34m=\u001b[0m \u001b[0mModel\u001b[0m\u001b[0;34m(\u001b[0m\u001b[0minputs\u001b[0m\u001b[0;34m=\u001b[0m\u001b[0;34m[\u001b[0m\u001b[0minputs\u001b[0m\u001b[0;34m,\u001b[0m \u001b[0mlabels\u001b[0m\u001b[0;34m,\u001b[0m \u001b[0minput_length\u001b[0m\u001b[0;34m,\u001b[0m \u001b[0mlabel_length\u001b[0m\u001b[0;34m]\u001b[0m\u001b[0;34m,\u001b[0m \u001b[0moutputs\u001b[0m\u001b[0;34m=\u001b[0m\u001b[0mloss_out\u001b[0m\u001b[0;34m)\u001b[0m\u001b[0;34m\u001b[0m\u001b[0;34m\u001b[0m\u001b[0m\n",
            "\u001b[0;32m/usr/local/lib/python3.10/dist-packages/keras/utils/traceback_utils.py\u001b[0m in \u001b[0;36merror_handler\u001b[0;34m(*args, **kwargs)\u001b[0m\n\u001b[1;32m     68\u001b[0m             \u001b[0;31m# To get the full stack trace, call:\u001b[0m\u001b[0;34m\u001b[0m\u001b[0;34m\u001b[0m\u001b[0m\n\u001b[1;32m     69\u001b[0m             \u001b[0;31m# `tf.debugging.disable_traceback_filtering()`\u001b[0m\u001b[0;34m\u001b[0m\u001b[0;34m\u001b[0m\u001b[0m\n\u001b[0;32m---> 70\u001b[0;31m             \u001b[0;32mraise\u001b[0m \u001b[0me\u001b[0m\u001b[0;34m.\u001b[0m\u001b[0mwith_traceback\u001b[0m\u001b[0;34m(\u001b[0m\u001b[0mfiltered_tb\u001b[0m\u001b[0;34m)\u001b[0m \u001b[0;32mfrom\u001b[0m \u001b[0;32mNone\u001b[0m\u001b[0;34m\u001b[0m\u001b[0;34m\u001b[0m\u001b[0m\n\u001b[0m\u001b[1;32m     71\u001b[0m         \u001b[0;32mfinally\u001b[0m\u001b[0;34m:\u001b[0m\u001b[0;34m\u001b[0m\u001b[0;34m\u001b[0m\u001b[0m\n\u001b[1;32m     72\u001b[0m             \u001b[0;32mdel\u001b[0m \u001b[0mfiltered_tb\u001b[0m\u001b[0;34m\u001b[0m\u001b[0;34m\u001b[0m\u001b[0m\n",
            "\u001b[0;32m<ipython-input-49-b2978e5fbfd4>\u001b[0m in \u001b[0;36mctc_lambda_func\u001b[0;34m(args)\u001b[0m\n\u001b[1;32m      5\u001b[0m \u001b[0;32mdef\u001b[0m \u001b[0mctc_lambda_func\u001b[0m\u001b[0;34m(\u001b[0m\u001b[0margs\u001b[0m\u001b[0;34m)\u001b[0m\u001b[0;34m:\u001b[0m\u001b[0;34m\u001b[0m\u001b[0;34m\u001b[0m\u001b[0m\n\u001b[1;32m      6\u001b[0m   \u001b[0my_pred\u001b[0m\u001b[0;34m,\u001b[0m \u001b[0mlabels\u001b[0m\u001b[0;34m,\u001b[0m \u001b[0minput_length\u001b[0m\u001b[0;34m,\u001b[0m \u001b[0mlabel_length\u001b[0m \u001b[0;34m=\u001b[0m \u001b[0margs\u001b[0m\u001b[0;34m\u001b[0m\u001b[0;34m\u001b[0m\u001b[0m\n\u001b[0;32m----> 7\u001b[0;31m   \u001b[0;32mreturn\u001b[0m \u001b[0mK\u001b[0m\u001b[0;34m.\u001b[0m\u001b[0mctc_batch_cost\u001b[0m\u001b[0;34m(\u001b[0m\u001b[0mlabels\u001b[0m\u001b[0;34m,\u001b[0m \u001b[0my_pred\u001b[0m\u001b[0;34m,\u001b[0m \u001b[0minput_length\u001b[0m\u001b[0;34m,\u001b[0m \u001b[0mlabel_length\u001b[0m\u001b[0;34m)\u001b[0m\u001b[0;34m\u001b[0m\u001b[0;34m\u001b[0m\u001b[0m\n\u001b[0m\u001b[1;32m      8\u001b[0m \u001b[0;34m\u001b[0m\u001b[0m\n\u001b[1;32m      9\u001b[0m \u001b[0mloss_out\u001b[0m \u001b[0;34m=\u001b[0m \u001b[0mLambda\u001b[0m\u001b[0;34m(\u001b[0m\u001b[0mctc_lambda_func\u001b[0m\u001b[0;34m,\u001b[0m \u001b[0moutput_shape\u001b[0m\u001b[0;34m=\u001b[0m\u001b[0;34m(\u001b[0m\u001b[0;36m1\u001b[0m\u001b[0;34m,\u001b[0m\u001b[0;34m)\u001b[0m\u001b[0;34m,\u001b[0m \u001b[0mname\u001b[0m\u001b[0;34m=\u001b[0m\u001b[0;34m'ctc'\u001b[0m\u001b[0;34m)\u001b[0m\u001b[0;34m(\u001b[0m\u001b[0;34m[\u001b[0m\u001b[0moutputs\u001b[0m\u001b[0;34m,\u001b[0m \u001b[0mlabels\u001b[0m\u001b[0;34m,\u001b[0m \u001b[0minput_length\u001b[0m\u001b[0;34m,\u001b[0m \u001b[0mlabel_length\u001b[0m\u001b[0;34m]\u001b[0m\u001b[0;34m)\u001b[0m\u001b[0;34m\u001b[0m\u001b[0;34m\u001b[0m\u001b[0m\n",
            "\u001b[0;31mValueError\u001b[0m: Exception encountered when calling layer \"ctc\" (type Lambda).\n\nInput tensor `ctc/Cast_2:0` enters the loop with shape (1, 0), but has shape (1, None) after one iteration. To allow the shape to vary across iterations, use the `shape_invariants` argument of tf.while_loop to specify a less-specific shape.\n\nCall arguments received by layer \"ctc\" (type Lambda):\n  • inputs=['tf.Tensor(shape=(None, 31, 63), dtype=float32)', 'tf.Tensor(shape=(None, 0), dtype=float32)', 'tf.Tensor(shape=(None, 1), dtype=int64)', 'tf.Tensor(shape=(None, 1), dtype=int64)']\n  • mask=None\n  • training=None"
          ]
        }
      ]
    },
    {
      "cell_type": "code",
      "source": [
        "model.compile(loss={'ctc': lambda y_true, y_pred: y_pred}, optimizer = keras.optimizers.Adam(lr=0.0005), metrics=['acc'])\n",
        "\n",
        "filepath=\"/content/drive/My Drive/best_model.hdf5\"\n",
        "checkpoint = ModelCheckpoint(filepath=filepath, monitor='val_loss', verbose=1, save_best_only=True, mode='auto')"
      ],
      "metadata": {
        "id": "WBUEqJClG5fW"
      },
      "execution_count": null,
      "outputs": []
    },
    {
      "cell_type": "code",
      "source": [
        "import matplotlib.pyplot as plt\n",
        "def display(x,y):\n",
        "\n",
        "  # load the saved best model weights\n",
        "  act_model.load_weights('/content/drive/My Drive/best_model.hdf5')\n",
        "  act_model.save('/content/drive/My Drive/act_model.hdf5')\n",
        "  prediction = act_model.predict(x.reshape(1,32,128,1))\n",
        "\n",
        "  # use CTC decoder\n",
        "  out = K.get_value(K.ctc_decode(prediction, input_length=np.ones(prediction.shape[0])*prediction.shape[1],\n",
        "                         greedy=True)[0][0])\n",
        "  x = x.reshape(32,128)\n",
        "  plt.title('Input Image')\n",
        "  plt.imshow(x)\n",
        "  plt.axis('off')\n",
        "  plt.show()\n",
        "\n",
        "  # see the results\n",
        "  for x in out:\n",
        "      print(\"predicted text = \", end = '')\n",
        "      for p in x:\n",
        "          if int(p) != -1:\n",
        "              print(char_list[int(p)], end = '')\n",
        "      print('\\n')\n",
        "\n",
        "class DisplayCallback(keras.callbacks.Callback):\n",
        "  def on_epoch_end(self, epoch, logs=None):\n",
        "    global model\n",
        "    model.save('/content/drive/My Drive/model.h5')\n",
        "    i = np.random.randint(300000)\n",
        "    display(training_img[i],train_padded_txt[i]"
      ],
      "metadata": {
        "id": "Lzvji4k7H6a7"
      },
      "execution_count": null,
      "outputs": []
    },
    {
      "cell_type": "code",
      "source": [
        "%xmode Verbose\n",
        "\n",
        "batch_size = 1026\n",
        "epochs = 20\n",
        "\n",
        "callbacks_list = [checkpoint, DisplayCallback()]\n",
        "\n",
        "model.fit(x=[training_img, train_padded_txt, train_input_length, train_label_length]\n",
        "          , y=np.zeros(len(training_img)),\n",
        "          batch_size=batch_size,\n",
        "          epochs = epochs,\n",
        "          validation_split = 0.08,\n",
        "          verbose = 1,\n",
        "          callbacks = callbacks_list )\n",
        "\n",
        "model.save(\"/content/drive/My Drive/best_model.hdf5\")"
      ],
      "metadata": {
        "id": "Y315W1W2LjF-"
      },
      "execution_count": null,
      "outputs": []
    },
    {
      "cell_type": "code",
      "source": [
        "import matplotlib.pyplot as plt\n",
        "from keras.layers import Dense, LSTM, Reshape, BatchNormalization, Input, Conv2D, MaxPool2D, Lambda, Bidirectional,Dropout\n",
        "from keras.models import Model\n",
        "from keras.activations import relu, sigmoid, softmax\n",
        "import keras.backend as K\n",
        "from keras.utils import to_categorical\n",
        "from keras.callbacks import ModelCheckpoint\n",
        "import keras"
      ],
      "metadata": {
        "id": "CTSWib9BLqQ3"
      },
      "execution_count": null,
      "outputs": []
    },
    {
      "cell_type": "code",
      "source": [
        "inputs = Input(shape=(32,128,1))\n",
        "s = keras.layers.core.Lambda(lambda x: x / 255) (inputs)\n",
        "\n",
        "# convolution layer with kernel size (3,3)\n",
        "conv_1 = Conv2D(16, (3,3), activation = 'relu', kernel_initializer='he_normal' ,padding='same')(s)\n",
        "conv_1 = Dropout(0.25)(conv_1)\n",
        "conv_1 = Conv2D(32, (3,3), activation = 'relu', kernel_initializer='he_normal' ,padding='same')(conv_1)\n",
        "# poolig layer with kernel size (2,2)\n",
        "pool_1 = MaxPool2D(pool_size=(2, 2), strides=2)(conv_1)\n",
        "\n",
        "conv_2 = Conv2D(32, (3,3), activation = 'relu',kernel_initializer='he_normal' , padding='same')(pool_1)\n",
        "conv_2= BatchNormalization(axis=-1)(conv_2)\n",
        "conv_2 = Dropout(0.25)(conv_2)\n",
        "conv_2 = Conv2D(32, (3,3), activation = 'relu', kernel_initializer='he_normal' ,padding='same')(conv_2)\n",
        "pool_2 = MaxPool2D(pool_size=(2, 2), strides=2)(conv_2)\n",
        "\n",
        "conv_3 = Conv2D(32, (3,3), activation = 'relu', kernel_initializer='he_normal' ,padding='same')(pool_2)\n",
        "conv_3= BatchNormalization(axis=-1)(conv_3)\n",
        "conv_3 = Dropout(0.25)(conv_3)\n",
        "conv_3 = Conv2D(32, (3,3), activation = 'relu', kernel_initializer='he_normal' ,padding='same')(conv_3)\n",
        "conv_4 = Conv2D(64, (3,3), activation = 'relu', kernel_initializer='he_normal' ,padding='same')(conv_3)\n",
        "# poolig layer with kernel size (2,1)\n",
        "pool_4 = MaxPool2D(pool_size=(2, 1))(conv_4)\n",
        "\n",
        "conv_5 = Conv2D(256, (3,3), activation = 'relu',kernel_initializer='he_normal' , padding='same')(pool_4)\n",
        "# Batch normalization layer\n",
        "batch_norm_5 = BatchNormalization()(conv_5)\n",
        "\n",
        "conv_6 = Conv2D(256, (3,3), activation = 'relu',kernel_initializer='he_normal' , padding='same')(batch_norm_5)\n",
        "batch_norm_6 = BatchNormalization()(conv_6)\n",
        "pool_6 = MaxPool2D(pool_size=(2, 1))(batch_norm_6)\n",
        "\n",
        "conv_7 = Conv2D(512, (2,2), activation = 'relu')(pool_6)\n",
        "\n",
        "squeezed = Lambda(lambda x: K.squeeze(x, 1))(conv_7)\n",
        "\n",
        "# bidirectional LSTM layers with units=128\n",
        "blstm_1 = Bidirectional(LSTM(128, return_sequences=True, dropout = 0.2))(squeezed)\n",
        "blstm_2 = Bidirectional(LSTM(128, return_sequences=True, dropout = 0.2))(blstm_1)\n",
        "\n",
        "outputs = Dense(62+1, activation = 'softmax')(blstm_2)\n",
        "\n",
        "# model to be used at test time\n",
        "act_model = Model(inputs, outputs)\n",
        "\n",
        "act_model.summary()"
      ],
      "metadata": {
        "id": "lqdjlAXzL3ML"
      },
      "execution_count": null,
      "outputs": []
    },
    {
      "cell_type": "code",
      "source": [
        "def display(x,y):\n",
        "\n",
        "  # load the saved best model weights\n",
        "  act_model.load_weights('/content/drive/My Drive/best_model.hdf5')\n",
        "  prediction = act_model.predict(x.reshape(1,32,128,1))\n",
        "\n",
        "  # use CTC decoder\n",
        "  out = K.get_value(K.ctc_decode(prediction, input_length=np.ones(prediction.shape[0])*prediction.shape[1],\n",
        "                         greedy=True)[0][0])\n",
        "  x = x.reshape(32,128)\n",
        "  plt.title('Input Image')\n",
        "  plt.imshow(x)\n",
        "  plt.axis('off')\n",
        "  plt.show()\n",
        "\n",
        "  # see the results\n",
        "  for x in out:\n",
        "      print(\"predicted text = \", end = '')\n",
        "      for p in x:\n",
        "          if int(p) != -1:\n",
        "              print(char_list[int(p)], end = '')\n",
        "      print('\\n')"
      ],
      "metadata": {
        "id": "IyR2vhuxL7cU"
      },
      "execution_count": null,
      "outputs": []
    },
    {
      "cell_type": "code",
      "source": [
        "for _ in range(8):\n",
        "  i = np.random.randint(300000)\n",
        "  display(training_img[i],train_padded_txt[i])"
      ],
      "metadata": {
        "id": "d2n_7-C7L_Yh"
      },
      "execution_count": null,
      "outputs": []
    }
  ]
}